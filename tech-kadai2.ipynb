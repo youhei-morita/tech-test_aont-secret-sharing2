{
 "cells": [
  {
   "cell_type": "markdown",
   "metadata": {},
   "source": [
    "AONTアルゴリズムの定義"
   ]
  },
  {
   "cell_type": "code",
   "execution_count": 2,
   "metadata": {},
   "outputs": [],
   "source": [
    "import hashlib\n",
    "\n",
    "def aont_encrypt(data):\n",
    "    hashed_data = hashlib.sha256(data.encode()).hexdigest()\n",
    "    return hashed_data\n",
    "\n",
    "def aont_decrypt(shares):\n",
    "    combined_data = ''.join(shares)\n",
    "    return combined_data\n"
   ]
  },
  {
   "cell_type": "markdown",
   "metadata": {},
   "source": [
    "データをシェア化する関数及びシェアの復元を行う関数の定義"
   ]
  },
  {
   "cell_type": "code",
   "execution_count": 3,
   "metadata": {},
   "outputs": [],
   "source": [
    "def share_data(data, num_shares):\n",
    "    encrypted_data = aont_encrypt(data)\n",
    "    shares = [encrypted_data[i:i+len(data)//num_shares] for i in range(0, len(data), len(data)//num_shares)]\n",
    "    return shares\n",
    "\n",
    "def combine_shares(shares):\n",
    "    return aont_decrypt(shares)"
   ]
  },
  {
   "cell_type": "markdown",
   "metadata": {},
   "source": [
    "テストコード"
   ]
  },
  {
   "cell_type": "code",
   "execution_count": 8,
   "metadata": {},
   "outputs": [
    {
     "name": "stdout",
     "output_type": "stream",
     "text": [
      "Shares: ['dff', 'd60', '21b', 'b2b', 'd5b']\n",
      "Combined Data: dffd6021bb2bd5b\n"
     ]
    }
   ],
   "source": [
    "# データの定義\n",
    "data = \"Hello, World!\"\n",
    "num_shares = 4\n",
    "\n",
    "# データのシェア化\n",
    "shares = share_data(data, num_shares)\n",
    "print(\"Shares:\", shares)\n",
    "\n",
    "# シェアの復元\n",
    "combined_data = combine_shares(shares)\n",
    "print(\"Combined Data:\", combined_data)"
   ]
  }
 ],
 "metadata": {
  "kernelspec": {
   "display_name": "Python 3",
   "language": "python",
   "name": "python3"
  },
  "language_info": {
   "codemirror_mode": {
    "name": "ipython",
    "version": 3
   },
   "file_extension": ".py",
   "mimetype": "text/x-python",
   "name": "python",
   "nbconvert_exporter": "python",
   "pygments_lexer": "ipython3",
   "version": "3.10.13"
  }
 },
 "nbformat": 4,
 "nbformat_minor": 2
}
